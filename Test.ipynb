{
 "cells": [
  {
   "cell_type": "code",
   "execution_count": 2,
   "id": "c47acdbc",
   "metadata": {},
   "outputs": [],
   "source": [
    "# TAG: Import Library\n",
    "import numpy as np\n",
    "import matplotlib.pyplot as plt\n",
    "from sklearn.model_selection import GridSearchCV\n",
    "from sklearn.svm import SVC\n",
    "from sklearn.metrics import accuracy_score, precision_score, recall_score, f1_score\n",
    "from sklearn.utils import shuffle\n",
    "from skimage.feature import hog\n",
    "from collections import Counter\n",
    "from mlxtend.data import loadlocal_mnist"
   ]
  },
  {
   "cell_type": "code",
   "execution_count": 3,
   "id": "82a0cb2e",
   "metadata": {},
   "outputs": [],
   "source": [
    "# TAG: Load EMNIST Letters Dataset (2600 samples - 100 per class)\n",
    "X_raw, y_raw = loadlocal_mnist(\n",
    "    images_path=r'C:\\Users\\HP\\Downloads\\emnist_source_files\\emnist-letters-train-images-idx3-ubyte',\n",
    "    labels_path=r'C:\\Users\\HP\\Downloads\\emnist_source_files\\emnist-letters-train-labels-idx1-ubyte'\n",
    ")\n",
    "\n",
    "X_raw = X_raw.reshape(-1, 28, 28)  # reshape menjadi (n, 28, 28)\n",
    "y_raw = y_raw - 1  # ubah label 1-26 menjadi 0-25 (A-Z)"
   ]
  },
  {
   "cell_type": "code",
   "execution_count": null,
   "id": "04ac83ef",
   "metadata": {},
   "outputs": [],
   "source": [
    "# TAG: Ambil 100 sample per kelas\n",
    "selected_X, selected_y = [], []\n",
    "for label in np.unique(y_raw):\n",
    "    idx = np.where(y_raw == label)[0][:100]\n",
    "    selected_X.append(X_raw[idx])\n",
    "    selected_y.append(y_raw[idx])\n",
    "X = np.concatenate(selected_X)\n",
    "y = np.concatenate(selected_y)\n",
    "\n",
    "from collections import Counter\n",
    "print(\"Jumlah sample per kelas:\", Counter(y))"
   ]
  },
  {
   "cell_type": "code",
   "execution_count": null,
   "id": "622802b2",
   "metadata": {},
   "outputs": [],
   "source": [
    "# TAG: Visualisasi beberapa gambar\n",
    "plt.figure(figsize=(10, 4))\n",
    "for i in range(10):\n",
    "    plt.subplot(2, 5, i + 1)\n",
    "    plt.imshow(X[i], cmap='gray')\n",
    "    plt.title(f\"Label: {chr(y[i]+65)}\")\n",
    "    plt.axis('off')\n",
    "plt.suptitle(\"Contoh Gambar dari EMNIST\")\n",
    "plt.show()"
   ]
  },
  {
   "cell_type": "code",
   "execution_count": null,
   "id": "0349b1a2",
   "metadata": {},
   "outputs": [],
   "source": [
    "# TAG: Shuffle Dataset\n",
    "X, y = shuffle(X, y, random_state=42)"
   ]
  },
  {
   "cell_type": "code",
   "execution_count": null,
   "id": "8973ab99",
   "metadata": {},
   "outputs": [],
   "source": [
    "# TAG: Ekstraksi Fitur HOG dengan parameter dimodifikasi\n",
    "def extract_hog_features(images):\n",
    "    hog_features = []\n",
    "    for img in images:\n",
    "        features = hog(img,\n",
    "                       orientations=9,\n",
    "                       pixels_per_cell=(8, 8),\n",
    "                       cells_per_block=(2, 2),\n",
    "                       block_norm='L2-Hys',\n",
    "                       visualize=False)\n",
    "        hog_features.append(features)\n",
    "    return np.array(hog_features)\n",
    "\n",
    "X_hog = extract_hog_features(X)\n",
    "print(\"Ukuran fitur HOG:\", X_hog.shape)"
   ]
  },
  {
   "cell_type": "code",
   "execution_count": null,
   "id": "a49b1bee",
   "metadata": {},
   "outputs": [],
   "source": [
    "# TAG: Simulasi Leave-One-Out Cross Validation (split 80/20)\n",
    "split_idx = int(0.8 * len(X_hog))\n",
    "X_train, X_test = X_hog[:split_idx], X_hog[split_idx:]\n",
    "y_train, y_test = y[:split_idx], y[split_idx:]"
   ]
  },
  {
   "cell_type": "code",
   "execution_count": null,
   "id": "df4537c8",
   "metadata": {},
   "outputs": [],
   "source": [
    "# TAG: Grid Search SVM\n",
    "param_grid = {\n",
    "    'C': [1, 10],\n",
    "    'gamma': [0.001, 0.01],\n",
    "    'kernel': ['rbf']\n",
    "}\n",
    "\n",
    "svm = SVC()\n",
    "grid = GridSearchCV(svm, param_grid, cv=5)\n",
    "grid.fit(X_train, y_train)\n",
    "\n",
    "print(\"Best Params:\", grid.best_params_)"
   ]
  },
  {
   "cell_type": "code",
   "execution_count": null,
   "id": "2c03efbf",
   "metadata": {},
   "outputs": [],
   "source": [
    "# TAG: Evaluasi Training\n",
    "model = grid.best_estimator_\n",
    "y_train_pred = model.predict(X_train)\n",
    "print(\"--- Training Performance ---\")\n",
    "print(\"Accuracy:\", accuracy_score(y_train, y_train_pred))\n",
    "print(\"Precision:\", precision_score(y_train, y_train_pred, average='macro'))\n",
    "print(\"Recall:\", recall_score(y_train, y_train_pred, average='macro'))\n",
    "print(\"F1 Score:\", f1_score(y_train, y_train_pred, average='macro'))"
   ]
  },
  {
   "cell_type": "code",
   "execution_count": null,
   "id": "9ae9e211",
   "metadata": {},
   "outputs": [],
   "source": [
    "# TAG: Evaluasi Testing\n",
    "y_test_pred = model.predict(X_test)\n",
    "print(\"\\n--- Testing Performance ---\")\n",
    "print(\"Accuracy:\", accuracy_score(y_test, y_test_pred))\n",
    "print(\"Precision:\", precision_score(y_test, y_test_pred, average='macro'))\n",
    "print(\"Recall:\", recall_score(y_test, y_test_pred, average='macro'))\n",
    "print(\"F1 Score:\", f1_score(y_test, y_test_pred, average='macro'))"
   ]
  }
 ],
 "metadata": {
  "kernelspec": {
   "display_name": "base",
   "language": "python",
   "name": "python3"
  },
  "language_info": {
   "codemirror_mode": {
    "name": "ipython",
    "version": 3
   },
   "file_extension": ".py",
   "mimetype": "text/x-python",
   "name": "python",
   "nbconvert_exporter": "python",
   "pygments_lexer": "ipython3",
   "version": "3.12.3"
  }
 },
 "nbformat": 4,
 "nbformat_minor": 5
}
